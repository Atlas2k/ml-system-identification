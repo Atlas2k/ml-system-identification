{
 "cells": [
  {
   "cell_type": "code",
   "execution_count": null,
   "metadata": {},
   "outputs": [],
   "source": [
    "import tensorflow as tf\n",
    "import numpy as np\n",
    "import scipy.io as sio\n",
    "from tensorflow import keras\n",
    "import matplotlib.pyplot as plt\n",
    "import cvnn.layers as complex_layers\n"
   ]
  },
  {
   "cell_type": "markdown",
   "metadata": {},
   "source": [
    "### Loading Complex Training and Test Data from Local Directory\n",
    "\n",
    "Training and test data is loaded from two local .mat files and are formatted into numpy ndarrays."
   ]
  },
  {
   "cell_type": "code",
   "execution_count": null,
   "metadata": {},
   "outputs": [],
   "source": [
    "# Loading dataset from .mat files\n",
    "in_ds = sio.loadmat('DS.mat')\n",
    "labels = sio.loadmat('labels.mat')\n",
    "in_ds = in_ds['poles']\n",
    "labels = labels['par']\n",
    "print(np.shape(in_ds))\n",
    "print(np.shape(labels))\n",
    "\n",
    "# Creating a training and test dataset from our data\n",
    "test_idx = np.random.permutation(in_ds.shape[0])\n",
    "test_idx = test_idx[:200]\n",
    "in_ds_tr = np.delete(in_ds, test_idx, 0)\n",
    "in_ds_ts = in_ds[test_idx, :]\n",
    "labels_tr = np.delete(labels, test_idx, 0)\n",
    "labels_ts = labels[test_idx, :]\n"
   ]
  },
  {
   "cell_type": "markdown",
   "metadata": {},
   "source": [
    "### Defining the CV FC NN\n",
    "\n",
    "Using the cvnn library a keras model is created, along with it's learning parameters, optimizer and loss function. It is compiled and a summary is printed."
   ]
  },
  {
   "cell_type": "code",
   "execution_count": null,
   "metadata": {},
   "outputs": [],
   "source": [
    "model = tf.keras.models.Sequential([\n",
    "    complex_layers.ComplexInput(input_shape=(4)),\n",
    "    complex_layers.ComplexDense(6, activation='cart_tanh'),\n",
    "    complex_layers.ComplexDense(10, activation='cart_tanh'),\n",
    "    complex_layers.ComplexDense(6, activation='convert_to_real_with_abs')\n",
    "])\n",
    "\n",
    "\n",
    "initial_learning_rate = 0.001\n",
    "\n",
    "\n",
    "model.compile(\n",
    "    loss='mse',\n",
    "    optimizer='adam',\n",
    "    metrics=['accuracy']\n",
    ")\n",
    "\n",
    "model.summary()\n"
   ]
  },
  {
   "cell_type": "markdown",
   "metadata": {},
   "source": [
    "### Training the CNN FC NN\n",
    "\n",
    "The model is trained using the training dataset."
   ]
  },
  {
   "cell_type": "code",
   "execution_count": null,
   "metadata": {},
   "outputs": [],
   "source": [
    "history = model.fit(in_ds_tr, labels_tr, epochs=2000)\n"
   ]
  },
  {
   "cell_type": "markdown",
   "metadata": {},
   "source": [
    "### Testing and Result Visualization\n"
   ]
  },
  {
   "cell_type": "code",
   "execution_count": null,
   "metadata": {},
   "outputs": [],
   "source": [
    "predictions = model.predict(in_ds_ts)\n",
    "\n",
    "# Scatter plot\n",
    "print(\"MAE:\")\n",
    "plt.figure(figsize=(12, 10))\n",
    "for i in range(6):\n",
    "    plt.subplot(2, 3, i+1)\n",
    "\n",
    "    plt.scatter(predictions[:, i], labels_ts[:, i])\n",
    "    # Mean error\n",
    "    print(100 * np.average(\n",
    "        np.abs(predictions[:, i] - labels_ts[:, i]))/np.average(labels_ts[:, i]), \"%\")\n",
    "\n",
    "# Histogram\n",
    "print(\"RMSE:\")\n",
    "plt.figure(figsize=(12, 10))\n",
    "for i in range(6):\n",
    "    plt.subplot(2, 3, i+1)\n",
    "    plt.hist((labels_ts[:, i]-predictions[:, i])/labels_ts[:, i]*100)\n",
    "    print(np.sqrt(np.average(np.square((labels_ts[:, i]-predictions[:, i])/labels_ts[:, i]*100))), \"%\")"
   ]
  }
 ],
 "metadata": {
  "kernelspec": {
   "display_name": "Python 3.10.5 64-bit",
   "language": "python",
   "name": "python3"
  },
  "language_info": {
   "codemirror_mode": {
    "name": "ipython",
    "version": 3
   },
   "file_extension": ".py",
   "mimetype": "text/x-python",
   "name": "python",
   "nbconvert_exporter": "python",
   "pygments_lexer": "ipython3",
   "version": "3.10.5"
  },
  "vscode": {
   "interpreter": {
    "hash": "aee8b7b246df8f9039afb4144a1f6fd8d2ca17a180786b69acc140d282b71a49"
   }
  }
 },
 "nbformat": 4,
 "nbformat_minor": 2
}
