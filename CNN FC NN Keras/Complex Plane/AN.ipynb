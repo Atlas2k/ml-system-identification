{
 "cells": [
  {
   "cell_type": "code",
   "execution_count": null,
   "metadata": {},
   "outputs": [],
   "source": [
    "import tensorflow as tf\n",
    "import numpy as np\n",
    "import scipy.io as sio\n",
    "from tensorflow import keras\n",
    "import matplotlib.pyplot as plt\n"
   ]
  },
  {
   "cell_type": "markdown",
   "metadata": {},
   "source": [
    "### Loading Training and Test Data from Local Directory\n",
    "\n",
    "Training and test data is loaded from two local .mat files and are formatted into numpy ndarrays."
   ]
  },
  {
   "cell_type": "code",
   "execution_count": null,
   "metadata": {},
   "outputs": [],
   "source": [
    "# Loading dataset from .mat files\n",
    "in_ds = sio.loadmat('DS.mat')\n",
    "labels = sio.loadmat('labels.mat')\n",
    "in_ds = in_ds['DS']\n",
    "labels = labels['par']\n",
    "print(np.shape(in_ds))\n",
    "print(np.shape(labels))\n",
    "\n",
    "# Creating a training and test dataset from our data\n",
    "test_idx = np.random.permutation(in_ds.shape[0])\n",
    "test_idx = test_idx[:200]\n",
    "in_ds_tr = np.delete(in_ds, test_idx, 0)\n",
    "in_ds_ts = in_ds[test_idx, :, :, :]\n",
    "labels_tr = np.delete(labels, test_idx, 0)\n",
    "labels_ts = labels[test_idx, :]\n"
   ]
  },
  {
   "cell_type": "markdown",
   "metadata": {},
   "source": [
    "### Image and Dataset Preprocessing and Visualization"
   ]
  },
  {
   "cell_type": "code",
   "execution_count": null,
   "metadata": {},
   "outputs": [],
   "source": [
    "def process_image(image, label):\n",
    "    image = tf.image.per_image_standardization(image)\n",
    "    return image, label\n",
    "\n",
    "\n",
    "# Converting numpy ndarrays to datasets\n",
    "train_ds = tf.data.Dataset.from_tensor_slices((in_ds_tr, labels_tr))\n",
    "train_ds_size = tf.data.experimental.cardinality(train_ds).numpy()\n",
    "test_ds = tf.data.Dataset.from_tensor_slices((in_ds_ts, labels_ts))\n",
    "print('Train size:', train_ds_size)\n",
    "\n",
    "# Plotting images\n",
    "plt.figure(figsize=(30, 30))\n",
    "for i, (image, label) in enumerate(train_ds.take(15)):\n",
    "    ax = plt.subplot(5, 5, i+1)\n",
    "    plt.imshow(image[:, :, 0], cmap='gray')\n",
    "    plt.axis('off')\n",
    "\n",
    "# Preprocessing datasets\n",
    "train_ds = (train_ds.map(process_image).batch(\n",
    "    batch_size=20, drop_remainder=False))\n",
    "test_ds = (test_ds.map(process_image).batch(batch_size=len(test_idx)))\n"
   ]
  },
  {
   "cell_type": "markdown",
   "metadata": {},
   "source": [
    "### Defining the CNN and FC NN\n",
    "\n",
    "A keras model is created, along with it's learning parameters, optimizer and loss function. It is compiled and a summary is printed."
   ]
  },
  {
   "cell_type": "code",
   "execution_count": null,
   "metadata": {},
   "outputs": [],
   "source": [
    "model = keras.models.Sequential([\n",
    "    keras.layers.Conv2D(4, (10, 10), input_shape=(\n",
    "        100, 100, 2), activation='tanh', strides=(3, 3)),\n",
    "    keras.layers.Conv2D(8, (7, 7), activation='tanh', strides=(2, 2)),\n",
    "    keras.layers.Conv2D(8, (5, 5), activation='tanh', strides=(2, 2)),\n",
    "    keras.layers.Conv2D(16, (4, 4), activation='tanh', strides=(1, 1)),\n",
    "    keras.layers.Flatten(),\n",
    "    keras.layers.Dense(10, activation='tanh'),\n",
    "    keras.layers.Dense(6, activation='linear')\n",
    "])\n",
    "\n",
    "initial_learning_rate = 0.001\n",
    "lr_schedule = tf.keras.optimizers.schedules.ExponentialDecay(\n",
    "    initial_learning_rate,\n",
    "    decay_steps=5,\n",
    "    decay_rate=.9,\n",
    "    staircase=True)\n",
    "\n",
    "model.compile(\n",
    "    loss='mse',\n",
    "    optimizer=tf.optimizers.Adam(lr_schedule),\n",
    "    metrics=['accuracy']\n",
    ")\n",
    "\n",
    "model.summary()\n"
   ]
  },
  {
   "cell_type": "markdown",
   "metadata": {},
   "source": [
    "### Training the CNN FC NN\n",
    "\n",
    "The model is trained using the training dataset."
   ]
  },
  {
   "cell_type": "code",
   "execution_count": null,
   "metadata": {},
   "outputs": [],
   "source": [
    "history = model.fit(train_ds, epochs=20)\n"
   ]
  },
  {
   "cell_type": "markdown",
   "metadata": {},
   "source": [
    "### Testing and Result Visualization"
   ]
  },
  {
   "cell_type": "code",
   "execution_count": null,
   "metadata": {},
   "outputs": [],
   "source": [
    "predictions = model.predict(test_ds)\n",
    "plt.figure(figsize=(12, 10))\n",
    "for i in range(6):\n",
    "    plt.subplot(2, 3, i+1)\n",
    "    plt.scatter(predictions[:, i], labels_ts[:, i])\n",
    "    # Mean error\n",
    "    print(100 * np.average(\n",
    "        np.abs(predictions[:, i] - labels_ts[:, i]))/np.average(labels_ts[:, i]), \"%\")\n"
   ]
  }
 ],
 "metadata": {
  "interpreter": {
   "hash": "916dbcbb3f70747c44a77c7bcd40155683ae19c65e1c03b4aa3499c5328201f1"
  },
  "kernelspec": {
   "display_name": "Python 3.6.8 64-bit",
   "language": "python",
   "name": "python3"
  },
  "language_info": {
   "codemirror_mode": {
    "name": "ipython",
    "version": 3
   },
   "file_extension": ".py",
   "mimetype": "text/x-python",
   "name": "python",
   "nbconvert_exporter": "python",
   "pygments_lexer": "ipython3",
   "version": "3.6.8"
  }
 },
 "nbformat": 4,
 "nbformat_minor": 2
}
